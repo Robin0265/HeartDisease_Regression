{
 "cells": [
  {
   "cell_type": "code",
   "execution_count": 1,
   "id": "b93a1857",
   "metadata": {},
   "outputs": [
    {
     "name": "stdout",
     "output_type": "stream",
     "text": [
      "hello\n"
     ]
    }
   ],
   "source": [
    "print('hello')"
   ]
  },
  {
   "cell_type": "code",
   "execution_count": 2,
   "id": "38fc70b1",
   "metadata": {},
   "outputs": [
    {
     "name": "stdout",
     "output_type": "stream",
     "text": [
      "tensor([[0.0000e+00, 0.0000e+00, 2.1019e-44],\n",
      "        [0.0000e+00, 9.2207e+26, 8.4358e-43],\n",
      "        [8.9082e-39, 1.0194e-38, 0.0000e+00],\n",
      "        [0.0000e+00, 2.1019e-44, 0.0000e+00],\n",
      "        [9.0354e+26, 8.4358e-43, 4.1327e-39]])\n"
     ]
    }
   ],
   "source": [
    "import torch \n",
    "x = torch.empty(5, 3) \n",
    "print(x)"
   ]
  }
 ],
 "metadata": {
  "kernelspec": {
   "display_name": "Python 3 (ipykernel)",
   "language": "python",
   "name": "python3"
  },
  "language_info": {
   "codemirror_mode": {
    "name": "ipython",
    "version": 3
   },
   "file_extension": ".py",
   "mimetype": "text/x-python",
   "name": "python",
   "nbconvert_exporter": "python",
   "pygments_lexer": "ipython3",
   "version": "3.9.7"
  }
 },
 "nbformat": 4,
 "nbformat_minor": 5
}
