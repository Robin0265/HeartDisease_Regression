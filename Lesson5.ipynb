{
 "cells": [
  {
   "cell_type": "code",
   "execution_count": 1,
   "id": "2d507f13-7698-4e58-8f6c-da4b6ca8399f",
   "metadata": {},
   "outputs": [
    {
     "data": {
      "text/plain": [
       "RandomForestClassifier(max_depth=5)"
      ]
     },
     "execution_count": 1,
     "metadata": {},
     "output_type": "execute_result"
    }
   ],
   "source": [
    "import numpy as np\n",
    "import pandas as pd\n",
    "import matplotlib.pyplot as plt\n",
    "df=pd.read_csv('process_heart.csv')\n",
    "X=df.drop('target', axis=1)\n",
    "y=df['target']\n",
    "from sklearn.model_selection import train_test_split\n",
    "X_train, X_test, y_train, y_test = train_test_split(X, y, test_size =0.2, random_state=10)\n",
    "from sklearn.ensemble import RandomForestClassifier\n",
    "model=RandomForestClassifier(max_depth=5, n_estimators=100)\n",
    "model.fit(X_train, y_train)"
   ]
  },
  {
   "cell_type": "code",
   "execution_count": 2,
   "id": "6d47368e-bb6e-4eb4-8fec-1155efbc6e92",
   "metadata": {},
   "outputs": [
    {
     "data": {
      "text/plain": [
       "(61, 26)"
      ]
     },
     "execution_count": 2,
     "metadata": {},
     "output_type": "execute_result"
    }
   ],
   "source": [
    "X_test.shape"
   ]
  },
  {
   "cell_type": "code",
   "execution_count": 3,
   "id": "c659425a",
   "metadata": {},
   "outputs": [
    {
     "data": {
      "text/html": [
       "<div>\n",
       "<style scoped>\n",
       "    .dataframe tbody tr th:only-of-type {\n",
       "        vertical-align: middle;\n",
       "    }\n",
       "\n",
       "    .dataframe tbody tr th {\n",
       "        vertical-align: top;\n",
       "    }\n",
       "\n",
       "    .dataframe thead th {\n",
       "        text-align: right;\n",
       "    }\n",
       "</style>\n",
       "<table border=\"1\" class=\"dataframe\">\n",
       "  <thead>\n",
       "    <tr style=\"text-align: right;\">\n",
       "      <th></th>\n",
       "      <th>age</th>\n",
       "      <th>resting_blood_pressure</th>\n",
       "      <th>cholesterol</th>\n",
       "      <th>max_heart_rate_achieved</th>\n",
       "      <th>st_depression</th>\n",
       "      <th>num_major_vessels</th>\n",
       "      <th>sex_female</th>\n",
       "      <th>sex_male</th>\n",
       "      <th>chest_pain_type_asymptomatic</th>\n",
       "      <th>chest_pain_type_atypical angina</th>\n",
       "      <th>...</th>\n",
       "      <th>rest_ecg_normal</th>\n",
       "      <th>exercise_induced_angina_no</th>\n",
       "      <th>exercise_induced_angina_yes</th>\n",
       "      <th>st_slope_downsloping</th>\n",
       "      <th>st_slope_flat</th>\n",
       "      <th>st_slope_upsloping</th>\n",
       "      <th>thalassemia_fixed defect</th>\n",
       "      <th>thalassemia_normal</th>\n",
       "      <th>thalassemia_reversable defect</th>\n",
       "      <th>thalassemia_unknown</th>\n",
       "    </tr>\n",
       "  </thead>\n",
       "  <tbody>\n",
       "    <tr>\n",
       "      <th>246</th>\n",
       "      <td>56</td>\n",
       "      <td>134</td>\n",
       "      <td>409</td>\n",
       "      <td>150</td>\n",
       "      <td>1.9</td>\n",
       "      <td>2</td>\n",
       "      <td>1</td>\n",
       "      <td>0</td>\n",
       "      <td>0</td>\n",
       "      <td>0</td>\n",
       "      <td>...</td>\n",
       "      <td>1</td>\n",
       "      <td>0</td>\n",
       "      <td>1</td>\n",
       "      <td>0</td>\n",
       "      <td>1</td>\n",
       "      <td>0</td>\n",
       "      <td>0</td>\n",
       "      <td>0</td>\n",
       "      <td>1</td>\n",
       "      <td>0</td>\n",
       "    </tr>\n",
       "    <tr>\n",
       "      <th>183</th>\n",
       "      <td>58</td>\n",
       "      <td>112</td>\n",
       "      <td>230</td>\n",
       "      <td>165</td>\n",
       "      <td>2.5</td>\n",
       "      <td>1</td>\n",
       "      <td>0</td>\n",
       "      <td>1</td>\n",
       "      <td>0</td>\n",
       "      <td>0</td>\n",
       "      <td>...</td>\n",
       "      <td>1</td>\n",
       "      <td>1</td>\n",
       "      <td>0</td>\n",
       "      <td>0</td>\n",
       "      <td>1</td>\n",
       "      <td>0</td>\n",
       "      <td>0</td>\n",
       "      <td>0</td>\n",
       "      <td>1</td>\n",
       "      <td>0</td>\n",
       "    </tr>\n",
       "    <tr>\n",
       "      <th>229</th>\n",
       "      <td>64</td>\n",
       "      <td>125</td>\n",
       "      <td>309</td>\n",
       "      <td>131</td>\n",
       "      <td>1.8</td>\n",
       "      <td>0</td>\n",
       "      <td>0</td>\n",
       "      <td>1</td>\n",
       "      <td>0</td>\n",
       "      <td>0</td>\n",
       "      <td>...</td>\n",
       "      <td>0</td>\n",
       "      <td>0</td>\n",
       "      <td>1</td>\n",
       "      <td>0</td>\n",
       "      <td>1</td>\n",
       "      <td>0</td>\n",
       "      <td>0</td>\n",
       "      <td>0</td>\n",
       "      <td>1</td>\n",
       "      <td>0</td>\n",
       "    </tr>\n",
       "    <tr>\n",
       "      <th>126</th>\n",
       "      <td>47</td>\n",
       "      <td>112</td>\n",
       "      <td>204</td>\n",
       "      <td>143</td>\n",
       "      <td>0.1</td>\n",
       "      <td>0</td>\n",
       "      <td>0</td>\n",
       "      <td>1</td>\n",
       "      <td>0</td>\n",
       "      <td>0</td>\n",
       "      <td>...</td>\n",
       "      <td>0</td>\n",
       "      <td>1</td>\n",
       "      <td>0</td>\n",
       "      <td>1</td>\n",
       "      <td>0</td>\n",
       "      <td>0</td>\n",
       "      <td>1</td>\n",
       "      <td>0</td>\n",
       "      <td>0</td>\n",
       "      <td>0</td>\n",
       "    </tr>\n",
       "    <tr>\n",
       "      <th>184</th>\n",
       "      <td>50</td>\n",
       "      <td>150</td>\n",
       "      <td>243</td>\n",
       "      <td>128</td>\n",
       "      <td>2.6</td>\n",
       "      <td>0</td>\n",
       "      <td>0</td>\n",
       "      <td>1</td>\n",
       "      <td>0</td>\n",
       "      <td>0</td>\n",
       "      <td>...</td>\n",
       "      <td>1</td>\n",
       "      <td>1</td>\n",
       "      <td>0</td>\n",
       "      <td>0</td>\n",
       "      <td>1</td>\n",
       "      <td>0</td>\n",
       "      <td>0</td>\n",
       "      <td>0</td>\n",
       "      <td>1</td>\n",
       "      <td>0</td>\n",
       "    </tr>\n",
       "  </tbody>\n",
       "</table>\n",
       "<p>5 rows × 26 columns</p>\n",
       "</div>"
      ],
      "text/plain": [
       "     age  resting_blood_pressure  cholesterol  max_heart_rate_achieved  \\\n",
       "246   56                     134          409                      150   \n",
       "183   58                     112          230                      165   \n",
       "229   64                     125          309                      131   \n",
       "126   47                     112          204                      143   \n",
       "184   50                     150          243                      128   \n",
       "\n",
       "     st_depression  num_major_vessels  sex_female  sex_male  \\\n",
       "246            1.9                  2           1         0   \n",
       "183            2.5                  1           0         1   \n",
       "229            1.8                  0           0         1   \n",
       "126            0.1                  0           0         1   \n",
       "184            2.6                  0           0         1   \n",
       "\n",
       "     chest_pain_type_asymptomatic  chest_pain_type_atypical angina  ...  \\\n",
       "246                             0                                0  ...   \n",
       "183                             0                                0  ...   \n",
       "229                             0                                0  ...   \n",
       "126                             0                                0  ...   \n",
       "184                             0                                0  ...   \n",
       "\n",
       "     rest_ecg_normal  exercise_induced_angina_no  exercise_induced_angina_yes  \\\n",
       "246                1                           0                            1   \n",
       "183                1                           1                            0   \n",
       "229                0                           0                            1   \n",
       "126                0                           1                            0   \n",
       "184                1                           1                            0   \n",
       "\n",
       "     st_slope_downsloping  st_slope_flat  st_slope_upsloping  \\\n",
       "246                     0              1                   0   \n",
       "183                     0              1                   0   \n",
       "229                     0              1                   0   \n",
       "126                     1              0                   0   \n",
       "184                     0              1                   0   \n",
       "\n",
       "     thalassemia_fixed defect  thalassemia_normal  \\\n",
       "246                         0                   0   \n",
       "183                         0                   0   \n",
       "229                         0                   0   \n",
       "126                         1                   0   \n",
       "184                         0                   0   \n",
       "\n",
       "     thalassemia_reversable defect  thalassemia_unknown  \n",
       "246                              1                    0  \n",
       "183                              1                    0  \n",
       "229                              1                    0  \n",
       "126                              0                    0  \n",
       "184                              1                    0  \n",
       "\n",
       "[5 rows x 26 columns]"
      ]
     },
     "execution_count": 3,
     "metadata": {},
     "output_type": "execute_result"
    }
   ],
   "source": [
    "X_test.head()"
   ]
  },
  {
   "cell_type": "code",
   "execution_count": 4,
   "id": "1826f733-b2bf-4b6f-944e-a85d70cd0a45",
   "metadata": {},
   "outputs": [
    {
     "data": {
      "text/plain": [
       "age                                           64.0\n",
       "resting_blood_pressure                       125.0\n",
       "cholesterol                                  309.0\n",
       "max_heart_rate_achieved                      131.0\n",
       "st_depression                                  1.8\n",
       "num_major_vessels                              0.0\n",
       "sex_female                                     0.0\n",
       "sex_male                                       1.0\n",
       "chest_pain_type_asymptomatic                   0.0\n",
       "chest_pain_type_atypical angina                0.0\n",
       "chest_pain_type_non-anginal pain               1.0\n",
       "chest_pain_type_typical angina                 0.0\n",
       "fasting_blood_sugar_greater than 120mg/ml      0.0\n",
       "fasting_blood_sugar_lower than 120mg/ml        1.0\n",
       "rest_ecg_ST-T wave abnormality                 1.0\n",
       "rest_ecg_left ventricular hypertrophy          0.0\n",
       "rest_ecg_normal                                0.0\n",
       "exercise_induced_angina_no                     0.0\n",
       "exercise_induced_angina_yes                    1.0\n",
       "st_slope_downsloping                           0.0\n",
       "st_slope_flat                                  1.0\n",
       "st_slope_upsloping                             0.0\n",
       "thalassemia_fixed defect                       0.0\n",
       "thalassemia_normal                             0.0\n",
       "thalassemia_reversable defect                  1.0\n",
       "thalassemia_unknown                            0.0\n",
       "Name: 229, dtype: float64"
      ]
     },
     "execution_count": 4,
     "metadata": {},
     "output_type": "execute_result"
    }
   ],
   "source": [
    "X_test.iloc[2]"
   ]
  },
  {
   "cell_type": "code",
   "execution_count": 5,
   "id": "b6ac8358-342f-4d53-802a-6ed6f1a5d2dd",
   "metadata": {},
   "outputs": [],
   "source": [
    "test_sample=X_test.iloc[2]"
   ]
  },
  {
   "cell_type": "code",
   "execution_count": 6,
   "id": "d7a6dbe0-27cb-4d49-9bb1-1d0de654175c",
   "metadata": {},
   "outputs": [
    {
     "data": {
      "text/plain": [
       "(26,)"
      ]
     },
     "execution_count": 6,
     "metadata": {},
     "output_type": "execute_result"
    }
   ],
   "source": [
    "test_sample.shape"
   ]
  },
  {
   "cell_type": "code",
   "execution_count": 7,
   "id": "fd960a06-8e13-4418-893c-0fcde8840682",
   "metadata": {},
   "outputs": [],
   "source": [
    "test_sample=np.array(test_sample).reshape(1,-1)"
   ]
  },
  {
   "cell_type": "code",
   "execution_count": 8,
   "id": "e16048f2-4741-4abc-bf02-7f87192f6f7b",
   "metadata": {},
   "outputs": [
    {
     "data": {
      "text/plain": [
       "array([[ 64. , 125. , 309. , 131. ,   1.8,   0. ,   0. ,   1. ,   0. ,\n",
       "          0. ,   1. ,   0. ,   0. ,   1. ,   1. ,   0. ,   0. ,   0. ,\n",
       "          1. ,   0. ,   1. ,   0. ,   0. ,   0. ,   1. ,   0. ]])"
      ]
     },
     "execution_count": 8,
     "metadata": {},
     "output_type": "execute_result"
    }
   ],
   "source": [
    "test_sample"
   ]
  },
  {
   "cell_type": "code",
   "execution_count": 9,
   "id": "c3cfa3c4-08cb-4529-a772-ec0014be150c",
   "metadata": {},
   "outputs": [
    {
     "data": {
      "text/plain": [
       "(1, 26)"
      ]
     },
     "execution_count": 9,
     "metadata": {},
     "output_type": "execute_result"
    }
   ],
   "source": [
    "test_sample.shape"
   ]
  },
  {
   "cell_type": "code",
   "execution_count": 10,
   "id": "7b8f0e27-8a58-424f-93a6-259676a24ec8",
   "metadata": {},
   "outputs": [
    {
     "name": "stderr",
     "output_type": "stream",
     "text": [
      "C:\\ProgramData\\Anaconda3\\lib\\site-packages\\sklearn\\base.py:450: UserWarning: X does not have valid feature names, but RandomForestClassifier was fitted with feature names\n",
      "  warnings.warn(\n"
     ]
    },
    {
     "data": {
      "text/plain": [
       "array([0], dtype=int64)"
      ]
     },
     "execution_count": 10,
     "metadata": {},
     "output_type": "execute_result"
    }
   ],
   "source": [
    "model.predict(test_sample)"
   ]
  },
  {
   "cell_type": "code",
   "execution_count": 11,
   "id": "19428d7a-aac5-45b2-a981-94f7eee5052b",
   "metadata": {},
   "outputs": [
    {
     "name": "stderr",
     "output_type": "stream",
     "text": [
      "C:\\ProgramData\\Anaconda3\\lib\\site-packages\\sklearn\\base.py:450: UserWarning: X does not have valid feature names, but RandomForestClassifier was fitted with feature names\n",
      "  warnings.warn(\n"
     ]
    },
    {
     "data": {
      "text/plain": [
       "array([[0.66050595, 0.33949405]])"
      ]
     },
     "execution_count": 11,
     "metadata": {},
     "output_type": "execute_result"
    }
   ],
   "source": [
    "model.predict_proba(test_sample)"
   ]
  },
  {
   "cell_type": "code",
   "execution_count": 12,
   "id": "26623d54-594b-456a-9e69-07a958e8aa17",
   "metadata": {},
   "outputs": [
    {
     "data": {
      "text/plain": [
       "array([0, 0, 0, 1, 0, 1, 1, 1, 1, 0, 1, 0, 1, 1, 0, 1, 0, 0, 1, 0, 0, 1,\n",
       "       1, 1, 0, 0, 0, 0, 1, 0, 1, 0, 0, 0, 0, 0, 1, 0, 1, 0, 0, 0, 1, 1,\n",
       "       1, 0, 1, 1, 1, 0, 1, 1, 0, 0, 1, 1, 1, 1, 0, 0, 1], dtype=int64)"
      ]
     },
     "execution_count": 12,
     "metadata": {},
     "output_type": "execute_result"
    }
   ],
   "source": [
    "model.predict(X_test)"
   ]
  },
  {
   "cell_type": "code",
   "execution_count": 13,
   "id": "ca7b7704-3466-4178-8445-578cdb5c5ec9",
   "metadata": {},
   "outputs": [
    {
     "data": {
      "text/plain": [
       "array([[0.94188095, 0.05811905],\n",
       "       [0.54560312, 0.45439688],\n",
       "       [0.66050595, 0.33949405],\n",
       "       [0.23024665, 0.76975335],\n",
       "       [0.74019406, 0.25980594],\n",
       "       [0.27464743, 0.72535257],\n",
       "       [0.46191861, 0.53808139],\n",
       "       [0.30719446, 0.69280554],\n",
       "       [0.10742854, 0.89257146],\n",
       "       [0.83671526, 0.16328474],\n",
       "       [0.06013533, 0.93986467],\n",
       "       [0.79837745, 0.20162255],\n",
       "       [0.45889505, 0.54110495],\n",
       "       [0.13207427, 0.86792573],\n",
       "       [0.79251354, 0.20748646],\n",
       "       [0.16823852, 0.83176148],\n",
       "       [0.89853536, 0.10146464],\n",
       "       [0.99372205, 0.00627795],\n",
       "       [0.33057335, 0.66942665],\n",
       "       [0.66684859, 0.33315141],\n",
       "       [0.95450161, 0.04549839],\n",
       "       [0.19790595, 0.80209405],\n",
       "       [0.29903179, 0.70096821],\n",
       "       [0.14291076, 0.85708924],\n",
       "       [0.68151964, 0.31848036],\n",
       "       [0.80151105, 0.19848895],\n",
       "       [0.96305538, 0.03694462],\n",
       "       [0.86257677, 0.13742323],\n",
       "       [0.11726161, 0.88273839],\n",
       "       [0.98442759, 0.01557241],\n",
       "       [0.13840459, 0.86159541],\n",
       "       [0.64965096, 0.35034904],\n",
       "       [0.87006266, 0.12993734],\n",
       "       [0.78968328, 0.21031672],\n",
       "       [0.99064362, 0.00935638],\n",
       "       [0.88290318, 0.11709682],\n",
       "       [0.34609291, 0.65390709],\n",
       "       [0.5117608 , 0.4882392 ],\n",
       "       [0.16199923, 0.83800077],\n",
       "       [0.75329949, 0.24670051],\n",
       "       [0.91146078, 0.08853922],\n",
       "       [0.8250155 , 0.1749845 ],\n",
       "       [0.13840119, 0.86159881],\n",
       "       [0.39308246, 0.60691754],\n",
       "       [0.0851119 , 0.9148881 ],\n",
       "       [0.5139809 , 0.4860191 ],\n",
       "       [0.48563719, 0.51436281],\n",
       "       [0.16955485, 0.83044515],\n",
       "       [0.25406818, 0.74593182],\n",
       "       [0.5474653 , 0.4525347 ],\n",
       "       [0.47859408, 0.52140592],\n",
       "       [0.21012897, 0.78987103],\n",
       "       [0.94829401, 0.05170599],\n",
       "       [0.86142069, 0.13857931],\n",
       "       [0.04985802, 0.95014198],\n",
       "       [0.2521429 , 0.7478571 ],\n",
       "       [0.26775083, 0.73224917],\n",
       "       [0.26027676, 0.73972324],\n",
       "       [0.99364362, 0.00635638],\n",
       "       [0.95105428, 0.04894572],\n",
       "       [0.33055902, 0.66944098]])"
      ]
     },
     "execution_count": 13,
     "metadata": {},
     "output_type": "execute_result"
    }
   ],
   "source": [
    "model.predict_proba(X_test)"
   ]
  },
  {
   "cell_type": "code",
   "execution_count": 14,
   "id": "60474b98-e30c-4d0e-adae-4046d353aa12",
   "metadata": {},
   "outputs": [
    {
     "data": {
      "text/plain": [
       "array([0.05811905, 0.45439688, 0.33949405, 0.76975335, 0.25980594,\n",
       "       0.72535257, 0.53808139, 0.69280554, 0.89257146, 0.16328474,\n",
       "       0.93986467, 0.20162255, 0.54110495, 0.86792573, 0.20748646,\n",
       "       0.83176148, 0.10146464, 0.00627795, 0.66942665, 0.33315141,\n",
       "       0.04549839, 0.80209405, 0.70096821, 0.85708924, 0.31848036,\n",
       "       0.19848895, 0.03694462, 0.13742323, 0.88273839, 0.01557241,\n",
       "       0.86159541, 0.35034904, 0.12993734, 0.21031672, 0.00935638,\n",
       "       0.11709682, 0.65390709, 0.4882392 , 0.83800077, 0.24670051,\n",
       "       0.08853922, 0.1749845 , 0.86159881, 0.60691754, 0.9148881 ,\n",
       "       0.4860191 , 0.51436281, 0.83044515, 0.74593182, 0.4525347 ,\n",
       "       0.52140592, 0.78987103, 0.05170599, 0.13857931, 0.95014198,\n",
       "       0.7478571 , 0.73224917, 0.73972324, 0.00635638, 0.04894572,\n",
       "       0.66944098])"
      ]
     },
     "execution_count": 14,
     "metadata": {},
     "output_type": "execute_result"
    }
   ],
   "source": [
    "model.predict_proba(X_test)[:, 1]"
   ]
  },
  {
   "cell_type": "code",
   "execution_count": 15,
   "id": "21347f53-e671-4bc9-a030-d11f7ee39a5b",
   "metadata": {},
   "outputs": [],
   "source": [
    "y_pred = model.predict(X_test)\n",
    "y_pred_proba = model.predict_proba(X_test)"
   ]
  },
  {
   "cell_type": "code",
   "execution_count": 16,
   "id": "1dd42fb7-1658-4d30-9fde-983e721e4bfa",
   "metadata": {},
   "outputs": [
    {
     "data": {
      "text/plain": [
       "array([0, 0, 0, 1, 0, 1, 1, 1, 1, 0, 1, 0, 1, 1, 0, 1, 0, 0, 1, 0, 0, 1,\n",
       "       1, 1, 0, 0, 0, 0, 1, 0, 1, 0, 0, 0, 0, 0, 1, 0, 1, 0, 0, 0, 1, 1,\n",
       "       1, 0, 1, 1, 1, 0, 1, 1, 0, 0, 1, 1, 1, 1, 0, 0, 1], dtype=int64)"
      ]
     },
     "execution_count": 16,
     "metadata": {},
     "output_type": "execute_result"
    }
   ],
   "source": [
    "y_pred"
   ]
  },
  {
   "cell_type": "code",
   "execution_count": 17,
   "id": "44554ea2-afef-4db2-adcc-156515865894",
   "metadata": {},
   "outputs": [
    {
     "data": {
      "text/plain": [
       "246    0\n",
       "183    0\n",
       "229    0\n",
       "126    1\n",
       "184    0\n",
       "      ..\n",
       "277    0\n",
       "121    1\n",
       "187    0\n",
       "301    0\n",
       "283    0\n",
       "Name: target, Length: 61, dtype: int64"
      ]
     },
     "execution_count": 17,
     "metadata": {},
     "output_type": "execute_result"
    }
   ],
   "source": [
    "y_test"
   ]
  },
  {
   "cell_type": "code",
   "execution_count": 18,
   "id": "8e7166a8-9f41-44fd-8066-45a25978c1c4",
   "metadata": {},
   "outputs": [],
   "source": [
    "from sklearn.metrics import confusion_matrix"
   ]
  },
  {
   "cell_type": "code",
   "execution_count": 19,
   "id": "ba817842-7ad7-4f30-b68b-ca164eb219eb",
   "metadata": {},
   "outputs": [
    {
     "data": {
      "text/plain": [
       "\u001b[1;31mSignature:\u001b[0m\n",
       "\u001b[0mconfusion_matrix\u001b[0m\u001b[1;33m(\u001b[0m\u001b[1;33m\n",
       "\u001b[0m    \u001b[0my_true\u001b[0m\u001b[1;33m,\u001b[0m\u001b[1;33m\n",
       "\u001b[0m    \u001b[0my_pred\u001b[0m\u001b[1;33m,\u001b[0m\u001b[1;33m\n",
       "\u001b[0m    \u001b[1;33m*\u001b[0m\u001b[1;33m,\u001b[0m\u001b[1;33m\n",
       "\u001b[0m    \u001b[0mlabels\u001b[0m\u001b[1;33m=\u001b[0m\u001b[1;32mNone\u001b[0m\u001b[1;33m,\u001b[0m\u001b[1;33m\n",
       "\u001b[0m    \u001b[0msample_weight\u001b[0m\u001b[1;33m=\u001b[0m\u001b[1;32mNone\u001b[0m\u001b[1;33m,\u001b[0m\u001b[1;33m\n",
       "\u001b[0m    \u001b[0mnormalize\u001b[0m\u001b[1;33m=\u001b[0m\u001b[1;32mNone\u001b[0m\u001b[1;33m,\u001b[0m\u001b[1;33m\n",
       "\u001b[0m\u001b[1;33m)\u001b[0m\u001b[1;33m\u001b[0m\u001b[1;33m\u001b[0m\u001b[0m\n",
       "\u001b[1;31mDocstring:\u001b[0m\n",
       "Compute confusion matrix to evaluate the accuracy of a classification.\n",
       "\n",
       "By definition a confusion matrix :math:`C` is such that :math:`C_{i, j}`\n",
       "is equal to the number of observations known to be in group :math:`i` and\n",
       "predicted to be in group :math:`j`.\n",
       "\n",
       "Thus in binary classification, the count of true negatives is\n",
       ":math:`C_{0,0}`, false negatives is :math:`C_{1,0}`, true positives is\n",
       ":math:`C_{1,1}` and false positives is :math:`C_{0,1}`.\n",
       "\n",
       "Read more in the :ref:`User Guide <confusion_matrix>`.\n",
       "\n",
       "Parameters\n",
       "----------\n",
       "y_true : array-like of shape (n_samples,)\n",
       "    Ground truth (correct) target values.\n",
       "\n",
       "y_pred : array-like of shape (n_samples,)\n",
       "    Estimated targets as returned by a classifier.\n",
       "\n",
       "labels : array-like of shape (n_classes), default=None\n",
       "    List of labels to index the matrix. This may be used to reorder\n",
       "    or select a subset of labels.\n",
       "    If ``None`` is given, those that appear at least once\n",
       "    in ``y_true`` or ``y_pred`` are used in sorted order.\n",
       "\n",
       "sample_weight : array-like of shape (n_samples,), default=None\n",
       "    Sample weights.\n",
       "\n",
       "    .. versionadded:: 0.18\n",
       "\n",
       "normalize : {'true', 'pred', 'all'}, default=None\n",
       "    Normalizes confusion matrix over the true (rows), predicted (columns)\n",
       "    conditions or all the population. If None, confusion matrix will not be\n",
       "    normalized.\n",
       "\n",
       "Returns\n",
       "-------\n",
       "C : ndarray of shape (n_classes, n_classes)\n",
       "    Confusion matrix whose i-th row and j-th\n",
       "    column entry indicates the number of\n",
       "    samples with true label being i-th class\n",
       "    and predicted label being j-th class.\n",
       "\n",
       "See Also\n",
       "--------\n",
       "ConfusionMatrixDisplay.from_estimator : Plot the confusion matrix\n",
       "    given an estimator, the data, and the label.\n",
       "ConfusionMatrixDisplay.from_predictions : Plot the confusion matrix\n",
       "    given the true and predicted labels.\n",
       "ConfusionMatrixDisplay : Confusion Matrix visualization.\n",
       "\n",
       "References\n",
       "----------\n",
       ".. [1] `Wikipedia entry for the Confusion matrix\n",
       "       <https://en.wikipedia.org/wiki/Confusion_matrix>`_\n",
       "       (Wikipedia and other references may use a different\n",
       "       convention for axes).\n",
       "\n",
       "Examples\n",
       "--------\n",
       ">>> from sklearn.metrics import confusion_matrix\n",
       ">>> y_true = [2, 0, 2, 2, 0, 1]\n",
       ">>> y_pred = [0, 0, 2, 2, 0, 2]\n",
       ">>> confusion_matrix(y_true, y_pred)\n",
       "array([[2, 0, 0],\n",
       "       [0, 0, 1],\n",
       "       [1, 0, 2]])\n",
       "\n",
       ">>> y_true = [\"cat\", \"ant\", \"cat\", \"cat\", \"ant\", \"bird\"]\n",
       ">>> y_pred = [\"ant\", \"ant\", \"cat\", \"cat\", \"ant\", \"cat\"]\n",
       ">>> confusion_matrix(y_true, y_pred, labels=[\"ant\", \"bird\", \"cat\"])\n",
       "array([[2, 0, 0],\n",
       "       [0, 0, 1],\n",
       "       [1, 0, 2]])\n",
       "\n",
       "In the binary case, we can extract true positives, etc as follows:\n",
       "\n",
       ">>> tn, fp, fn, tp = confusion_matrix([0, 1, 0, 1], [1, 1, 1, 0]).ravel()\n",
       ">>> (tn, fp, fn, tp)\n",
       "(0, 2, 1, 1)\n",
       "\u001b[1;31mFile:\u001b[0m      c:\\programdata\\anaconda3\\lib\\site-packages\\sklearn\\metrics\\_classification.py\n",
       "\u001b[1;31mType:\u001b[0m      function\n"
      ]
     },
     "metadata": {},
     "output_type": "display_data"
    }
   ],
   "source": [
    "confusion_matrix?"
   ]
  },
  {
   "cell_type": "code",
   "execution_count": 20,
   "id": "17e49ca2-61d3-4375-9eb4-77deac98837c",
   "metadata": {},
   "outputs": [],
   "source": [
    "confusion_matrix_model=confusion_matrix(y_test, y_pred)"
   ]
  },
  {
   "cell_type": "code",
   "execution_count": 21,
   "id": "c12f428e-0dfe-4de8-a7a9-2c6cdb53646d",
   "metadata": {},
   "outputs": [
    {
     "data": {
      "text/plain": [
       "array([[27,  8],\n",
       "       [ 4, 22]], dtype=int64)"
      ]
     },
     "execution_count": 21,
     "metadata": {},
     "output_type": "execute_result"
    }
   ],
   "source": [
    "confusion_matrix_model"
   ]
  },
  {
   "cell_type": "code",
   "execution_count": 22,
   "id": "94b8443e-658a-4cbd-b258-56d6a2194519",
   "metadata": {},
   "outputs": [],
   "source": [
    "import itertools\n",
    "def cnf_matrix_plotter(cm, classes):\n",
    "    plt.imshow(cm, interpolation='nearest', cmap=plt.cm.Oranges)\n",
    "    plt.title('Confusion Matrix')\n",
    "    plt.colorbar()\n",
    "    tick_marks=np.arange(len(classes))\n",
    "    plt.xticks(tick_marks, classes, rotation=45)\n",
    "    plt.yticks(tick_marks, classes)\n",
    "    threshold=cm.max()/2.\n",
    "    for i, j in itertools.product(range(cm.shape[0]), range(cm.shape[1])):\n",
    "        plt.text(j, i, cm[i, j],\n",
    "                horizontalalignment=\"center\",\n",
    "                color=\"white\" if cm[i, j]>threshold else \"black\",\n",
    "                fontsize=25)\n",
    "    plt.tight_layout()\n",
    "    plt.ylabel('True Label')\n",
    "    plt.xlabel('Predicted Label')\n",
    "    plt.show()"
   ]
  },
  {
   "cell_type": "code",
   "execution_count": 23,
   "id": "515ec3b1-5605-4856-b844-c13cc21a6a9c",
   "metadata": {},
   "outputs": [
    {
     "data": {
      "image/png": "[encoded data removed]",
      "text/plain": [
       "<Figure size 432x288 with 2 Axes>"
      ]
     },
     "metadata": {
      "needs_background": "light"
     },
     "output_type": "display_data"
    }
   ],
   "source": [
    "cnf_matrix_plotter(confusion_matrix_model, ['Healthy','Disease'])"
   ]
  },
  {
   "cell_type": "code",
   "execution_count": 24,
   "id": "cbc416de",
   "metadata": {},
   "outputs": [
    {
     "name": "stdout",
     "output_type": "stream",
     "text": [
      "              precision    recall  f1-score   support\n",
      "\n",
      "     Healthy       0.87      0.77      0.82        35\n",
      "     Disease       0.73      0.85      0.79        26\n",
      "\n",
      "    accuracy                           0.80        61\n",
      "   macro avg       0.80      0.81      0.80        61\n",
      "weighted avg       0.81      0.80      0.80        61\n",
      "\n"
     ]
    }
   ],
   "source": [
    "from sklearn.metrics import classification_report\n",
    "print(classification_report(y_test, y_pred, target_names=['Healthy', 'Disease']))"
   ]
  },
  {
   "cell_type": "code",
   "execution_count": 25,
   "id": "26e1b3bc",
   "metadata": {},
   "outputs": [
    {
     "data": {
      "text/plain": [
       "array([[0.94188095, 0.05811905],\n",
       "       [0.54560312, 0.45439688],\n",
       "       [0.66050595, 0.33949405],\n",
       "       [0.23024665, 0.76975335],\n",
       "       [0.74019406, 0.25980594],\n",
       "       [0.27464743, 0.72535257],\n",
       "       [0.46191861, 0.53808139],\n",
       "       [0.30719446, 0.69280554],\n",
       "       [0.10742854, 0.89257146],\n",
       "       [0.83671526, 0.16328474],\n",
       "       [0.06013533, 0.93986467],\n",
       "       [0.79837745, 0.20162255],\n",
       "       [0.45889505, 0.54110495],\n",
       "       [0.13207427, 0.86792573],\n",
       "       [0.79251354, 0.20748646],\n",
       "       [0.16823852, 0.83176148],\n",
       "       [0.89853536, 0.10146464],\n",
       "       [0.99372205, 0.00627795],\n",
       "       [0.33057335, 0.66942665],\n",
       "       [0.66684859, 0.33315141],\n",
       "       [0.95450161, 0.04549839],\n",
       "       [0.19790595, 0.80209405],\n",
       "       [0.29903179, 0.70096821],\n",
       "       [0.14291076, 0.85708924],\n",
       "       [0.68151964, 0.31848036],\n",
       "       [0.80151105, 0.19848895],\n",
       "       [0.96305538, 0.03694462],\n",
       "       [0.86257677, 0.13742323],\n",
       "       [0.11726161, 0.88273839],\n",
       "       [0.98442759, 0.01557241],\n",
       "       [0.13840459, 0.86159541],\n",
       "       [0.64965096, 0.35034904],\n",
       "       [0.87006266, 0.12993734],\n",
       "       [0.78968328, 0.21031672],\n",
       "       [0.99064362, 0.00935638],\n",
       "       [0.88290318, 0.11709682],\n",
       "       [0.34609291, 0.65390709],\n",
       "       [0.5117608 , 0.4882392 ],\n",
       "       [0.16199923, 0.83800077],\n",
       "       [0.75329949, 0.24670051],\n",
       "       [0.91146078, 0.08853922],\n",
       "       [0.8250155 , 0.1749845 ],\n",
       "       [0.13840119, 0.86159881],\n",
       "       [0.39308246, 0.60691754],\n",
       "       [0.0851119 , 0.9148881 ],\n",
       "       [0.5139809 , 0.4860191 ],\n",
       "       [0.48563719, 0.51436281],\n",
       "       [0.16955485, 0.83044515],\n",
       "       [0.25406818, 0.74593182],\n",
       "       [0.5474653 , 0.4525347 ],\n",
       "       [0.47859408, 0.52140592],\n",
       "       [0.21012897, 0.78987103],\n",
       "       [0.94829401, 0.05170599],\n",
       "       [0.86142069, 0.13857931],\n",
       "       [0.04985802, 0.95014198],\n",
       "       [0.2521429 , 0.7478571 ],\n",
       "       [0.26775083, 0.73224917],\n",
       "       [0.26027676, 0.73972324],\n",
       "       [0.99364362, 0.00635638],\n",
       "       [0.95105428, 0.04894572],\n",
       "       [0.33055902, 0.66944098]])"
      ]
     },
     "execution_count": 25,
     "metadata": {},
     "output_type": "execute_result"
    }
   ],
   "source": [
    "model.predict_proba(X_test)"
   ]
  },
  {
   "cell_type": "code",
   "execution_count": 26,
   "id": "648521a8",
   "metadata": {},
   "outputs": [
    {
     "data": {
      "text/plain": [
       "array([0.05811905, 0.45439688, 0.33949405, 0.76975335, 0.25980594,\n",
       "       0.72535257, 0.53808139, 0.69280554, 0.89257146, 0.16328474,\n",
       "       0.93986467, 0.20162255, 0.54110495, 0.86792573, 0.20748646,\n",
       "       0.83176148, 0.10146464, 0.00627795, 0.66942665, 0.33315141,\n",
       "       0.04549839, 0.80209405, 0.70096821, 0.85708924, 0.31848036,\n",
       "       0.19848895, 0.03694462, 0.13742323, 0.88273839, 0.01557241,\n",
       "       0.86159541, 0.35034904, 0.12993734, 0.21031672, 0.00935638,\n",
       "       0.11709682, 0.65390709, 0.4882392 , 0.83800077, 0.24670051,\n",
       "       0.08853922, 0.1749845 , 0.86159881, 0.60691754, 0.9148881 ,\n",
       "       0.4860191 , 0.51436281, 0.83044515, 0.74593182, 0.4525347 ,\n",
       "       0.52140592, 0.78987103, 0.05170599, 0.13857931, 0.95014198,\n",
       "       0.7478571 , 0.73224917, 0.73972324, 0.00635638, 0.04894572,\n",
       "       0.66944098])"
      ]
     },
     "execution_count": 26,
     "metadata": {},
     "output_type": "execute_result"
    }
   ],
   "source": [
    "model.predict_proba(X_test)[:, 1]"
   ]
  },
  {
   "cell_type": "code",
   "execution_count": 27,
   "id": "07072bdf",
   "metadata": {},
   "outputs": [],
   "source": [
    "y_pred_quant=model.predict_proba(X_test)[:, 1]"
   ]
  },
  {
   "cell_type": "code",
   "execution_count": 28,
   "id": "1f29a9fc",
   "metadata": {},
   "outputs": [],
   "source": [
    "from sklearn.metrics import roc_curve, auc\n",
    "fpr, tpr, threshold = roc_curve(y_test, y_pred_quant)"
   ]
  },
  {
   "cell_type": "code",
   "execution_count": 29,
   "id": "a40d22de",
   "metadata": {},
   "outputs": [
    {
     "data": {
      "text/plain": [
       "array([0.        , 0.        , 0.        , 0.02857143, 0.02857143,\n",
       "       0.11428571, 0.11428571, 0.17142857, 0.17142857, 0.31428571,\n",
       "       0.31428571, 0.45714286, 0.45714286, 0.85714286, 0.85714286,\n",
       "       1.        ])"
      ]
     },
     "execution_count": 29,
     "metadata": {},
     "output_type": "execute_result"
    }
   ],
   "source": [
    "fpr"
   ]
  },
  {
   "cell_type": "code",
   "execution_count": 30,
   "id": "fc65f0a1",
   "metadata": {},
   "outputs": [
    {
     "data": {
      "text/plain": [
       "array([0.        , 0.03846154, 0.69230769, 0.69230769, 0.73076923,\n",
       "       0.73076923, 0.80769231, 0.80769231, 0.84615385, 0.84615385,\n",
       "       0.92307692, 0.92307692, 0.96153846, 0.96153846, 1.        ,\n",
       "       1.        ])"
      ]
     },
     "execution_count": 30,
     "metadata": {},
     "output_type": "execute_result"
    }
   ],
   "source": [
    "tpr"
   ]
  },
  {
   "cell_type": "code",
   "execution_count": 31,
   "id": "ad2a6ca3",
   "metadata": {},
   "outputs": [
    {
     "data": {
      "text/plain": [
       "array([1.95014198, 0.95014198, 0.73972324, 0.73224917, 0.72535257,\n",
       "       0.66944098, 0.65390709, 0.54110495, 0.53808139, 0.45439688,\n",
       "       0.35034904, 0.24670051, 0.21031672, 0.04894572, 0.04549839,\n",
       "       0.00627795])"
      ]
     },
     "execution_count": 31,
     "metadata": {},
     "output_type": "execute_result"
    }
   ],
   "source": [
    "threshold"
   ]
  },
  {
   "cell_type": "code",
   "execution_count": 32,
   "id": "f18a3ba2",
   "metadata": {},
   "outputs": [
    {
     "data": {
      "image/png": "[encoded data removed]",
      "text/plain": [
       "<Figure size 432x288 with 1 Axes>"
      ]
     },
     "metadata": {
      "needs_background": "light"
     },
     "output_type": "display_data"
    }
   ],
   "source": [
    "plt.plot(fpr, tpr)\n",
    "plt.plot([0, 1], [0, 1],ls=\"--\", c=\".3\")\n",
    "plt.xlim([0.0, 1.0])\n",
    "plt.ylim([0.0, 1.0])\n",
    "plt.rcParams['font.size'] = 12\n",
    "plt.title('ROC curve')\n",
    "plt.xlabel('False Positive Rate (1 - Specificity)')\n",
    "plt.ylabel('True Positive Rate (Sensitivity)')\n",
    "plt.grid(True)"
   ]
  },
  {
   "cell_type": "code",
   "execution_count": 33,
   "id": "4a39868c",
   "metadata": {},
   "outputs": [
    {
     "data": {
      "text/plain": [
       "0.9087912087912088"
      ]
     },
     "execution_count": 33,
     "metadata": {},
     "output_type": "execute_result"
    }
   ],
   "source": [
    "auc(fpr, tpr)"
   ]
  }
 ],
 "metadata": {
  "kernelspec": {
   "display_name": "Python 3 (ipykernel)",
   "language": "python",
   "name": "python3"
  },
  "language_info": {
   "codemirror_mode": {
    "name": "ipython",
    "version": 3
   },
   "file_extension": ".py",
   "mimetype": "text/x-python",
   "name": "python",
   "nbconvert_exporter": "python",
   "pygments_lexer": "ipython3",
   "version": "3.9.12"
  }
 },
 "nbformat": 4,
 "nbformat_minor": 5
}
