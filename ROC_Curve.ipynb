{
 "cells": [
  {
   "cell_type": "code",
   "execution_count": 1,
   "id": "2d507f13-7698-4e58-8f6c-da4b6ca8399f",
   "metadata": {},
   "outputs": [
    {
     "data": {
      "text/html": [
       "<style>#sk-container-id-1 {color: black;background-color: white;}#sk-container-id-1 pre{padding: 0;}#sk-container-id-1 div.sk-toggleable {background-color: white;}#sk-container-id-1 label.sk-toggleable__label {cursor: pointer;display: block;width: 100%;margin-bottom: 0;padding: 0.3em;box-sizing: border-box;text-align: center;}#sk-container-id-1 label.sk-toggleable__label-arrow:before {content: \"▸\";float: left;margin-right: 0.25em;color: #696969;}#sk-container-id-1 label.sk-toggleable__label-arrow:hover:before {color: black;}#sk-container-id-1 div.sk-estimator:hover label.sk-toggleable__label-arrow:before {color: black;}#sk-container-id-1 div.sk-toggleable__content {max-height: 0;max-width: 0;overflow: hidden;text-align: left;background-color: #f0f8ff;}#sk-container-id-1 div.sk-toggleable__content pre {margin: 0.2em;color: black;border-radius: 0.25em;background-color: #f0f8ff;}#sk-container-id-1 input.sk-toggleable__control:checked~div.sk-toggleable__content {max-height: 200px;max-width: 100%;overflow: auto;}#sk-container-id-1 input.sk-toggleable__control:checked~label.sk-toggleable__label-arrow:before {content: \"▾\";}#sk-container-id-1 div.sk-estimator input.sk-toggleable__control:checked~label.sk-toggleable__label {background-color: #d4ebff;}#sk-container-id-1 div.sk-label input.sk-toggleable__control:checked~label.sk-toggleable__label {background-color: #d4ebff;}#sk-container-id-1 input.sk-hidden--visually {border: 0;clip: rect(1px 1px 1px 1px);clip: rect(1px, 1px, 1px, 1px);height: 1px;margin: -1px;overflow: hidden;padding: 0;position: absolute;width: 1px;}#sk-container-id-1 div.sk-estimator {font-family: monospace;background-color: #f0f8ff;border: 1px dotted black;border-radius: 0.25em;box-sizing: border-box;margin-bottom: 0.5em;}#sk-container-id-1 div.sk-estimator:hover {background-color: #d4ebff;}#sk-container-id-1 div.sk-parallel-item::after {content: \"\";width: 100%;border-bottom: 1px solid gray;flex-grow: 1;}#sk-container-id-1 div.sk-label:hover label.sk-toggleable__label {background-color: #d4ebff;}#sk-container-id-1 div.sk-serial::before {content: \"\";position: absolute;border-left: 1px solid gray;box-sizing: border-box;top: 0;bottom: 0;left: 50%;z-index: 0;}#sk-container-id-1 div.sk-serial {display: flex;flex-direction: column;align-items: center;background-color: white;padding-right: 0.2em;padding-left: 0.2em;position: relative;}#sk-container-id-1 div.sk-item {position: relative;z-index: 1;}#sk-container-id-1 div.sk-parallel {display: flex;align-items: stretch;justify-content: center;background-color: white;position: relative;}#sk-container-id-1 div.sk-item::before, #sk-container-id-1 div.sk-parallel-item::before {content: \"\";position: absolute;border-left: 1px solid gray;box-sizing: border-box;top: 0;bottom: 0;left: 50%;z-index: -1;}#sk-container-id-1 div.sk-parallel-item {display: flex;flex-direction: column;z-index: 1;position: relative;background-color: white;}#sk-container-id-1 div.sk-parallel-item:first-child::after {align-self: flex-end;width: 50%;}#sk-container-id-1 div.sk-parallel-item:last-child::after {align-self: flex-start;width: 50%;}#sk-container-id-1 div.sk-parallel-item:only-child::after {width: 0;}#sk-container-id-1 div.sk-dashed-wrapped {border: 1px dashed gray;margin: 0 0.4em 0.5em 0.4em;box-sizing: border-box;padding-bottom: 0.4em;background-color: white;}#sk-container-id-1 div.sk-label label {font-family: monospace;font-weight: bold;display: inline-block;line-height: 1.2em;}#sk-container-id-1 div.sk-label-container {text-align: center;}#sk-container-id-1 div.sk-container {/* jupyter's `normalize.less` sets `[hidden] { display: none; }` but bootstrap.min.css set `[hidden] { display: none !important; }` so we also need the `!important` here to be able to override the default hidden behavior on the sphinx rendered scikit-learn.org. See: https://github.com/scikit-learn/scikit-learn/issues/21755 */display: inline-block !important;position: relative;}#sk-container-id-1 div.sk-text-repr-fallback {display: none;}</style><div id=\"sk-container-id-1\" class=\"sk-top-container\"><div class=\"sk-text-repr-fallback\"><pre>RandomForestClassifier(max_depth=5)</pre><b>In a Jupyter environment, please rerun this cell to show the HTML representation or trust the notebook. <br />On GitHub, the HTML representation is unable to render, please try loading this page with nbviewer.org.</b></div><div class=\"sk-container\" hidden><div class=\"sk-item\"><div class=\"sk-estimator sk-toggleable\"><input class=\"sk-toggleable__control sk-hidden--visually\" id=\"sk-estimator-id-1\" type=\"checkbox\" checked><label for=\"sk-estimator-id-1\" class=\"sk-toggleable__label sk-toggleable__label-arrow\">RandomForestClassifier</label><div class=\"sk-toggleable__content\"><pre>RandomForestClassifier(max_depth=5)</pre></div></div></div></div></div>"
      ],
      "text/plain": [
       "RandomForestClassifier(max_depth=5)"
      ]
     },
     "execution_count": 1,
     "metadata": {},
     "output_type": "execute_result"
    }
   ],
   "source": [
    "import numpy as np\n",
    "import pandas as pd\n",
    "import matplotlib.pyplot as plt\n",
    "df=pd.read_csv('process_heart.csv')\n",
    "X=df.drop('target', axis=1)\n",
    "y=df['target']\n",
    "from sklearn.model_selection import train_test_split\n",
    "X_train, X_test, y_train, y_test = train_test_split(X, y, test_size =0.2, random_state=10)\n",
    "from sklearn.ensemble import RandomForestClassifier\n",
    "model=RandomForestClassifier(max_depth=5, n_estimators=100)\n",
    "model.fit(X_train, y_train)"
   ]
  },
  {
   "cell_type": "code",
   "execution_count": 2,
   "id": "6d47368e-bb6e-4eb4-8fec-1155efbc6e92",
   "metadata": {},
   "outputs": [
    {
     "data": {
      "text/plain": [
       "(61, 26)"
      ]
     },
     "execution_count": 2,
     "metadata": {},
     "output_type": "execute_result"
    }
   ],
   "source": [
    "X_test.shape"
   ]
  },
  {
   "cell_type": "code",
   "execution_count": 3,
   "id": "c659425a",
   "metadata": {},
   "outputs": [
    {
     "data": {
      "text/html": [
       "<div>\n",
       "<style scoped>\n",
       "    .dataframe tbody tr th:only-of-type {\n",
       "        vertical-align: middle;\n",
       "    }\n",
       "\n",
       "    .dataframe tbody tr th {\n",
       "        vertical-align: top;\n",
       "    }\n",
       "\n",
       "    .dataframe thead th {\n",
       "        text-align: right;\n",
       "    }\n",
       "</style>\n",
       "<table border=\"1\" class=\"dataframe\">\n",
       "  <thead>\n",
       "    <tr style=\"text-align: right;\">\n",
       "      <th></th>\n",
       "      <th>age</th>\n",
       "      <th>resting_blood_pressure</th>\n",
       "      <th>cholesterol</th>\n",
       "      <th>max_heart_rate_achieved</th>\n",
       "      <th>st_depression</th>\n",
       "      <th>num_major_vessels</th>\n",
       "      <th>sex_female</th>\n",
       "      <th>sex_male</th>\n",
       "      <th>chest_pain_type_asymptomatic</th>\n",
       "      <th>chest_pain_type_atypical angina</th>\n",
       "      <th>...</th>\n",
       "      <th>rest_ecg_normal</th>\n",
       "      <th>exercise_induced_angina_no</th>\n",
       "      <th>exercise_induced_angina_yes</th>\n",
       "      <th>st_slope_downsloping</th>\n",
       "      <th>st_slope_flat</th>\n",
       "      <th>st_slope_upsloping</th>\n",
       "      <th>thalassemia_fixed defect</th>\n",
       "      <th>thalassemia_normal</th>\n",
       "      <th>thalassemia_reversable defect</th>\n",
       "      <th>thalassemia_unknown</th>\n",
       "    </tr>\n",
       "  </thead>\n",
       "  <tbody>\n",
       "    <tr>\n",
       "      <th>246</th>\n",
       "      <td>56</td>\n",
       "      <td>134</td>\n",
       "      <td>409</td>\n",
       "      <td>150</td>\n",
       "      <td>1.9</td>\n",
       "      <td>2</td>\n",
       "      <td>1</td>\n",
       "      <td>0</td>\n",
       "      <td>0</td>\n",
       "      <td>0</td>\n",
       "      <td>...</td>\n",
       "      <td>1</td>\n",
       "      <td>0</td>\n",
       "      <td>1</td>\n",
       "      <td>0</td>\n",
       "      <td>1</td>\n",
       "      <td>0</td>\n",
       "      <td>0</td>\n",
       "      <td>0</td>\n",
       "      <td>1</td>\n",
       "      <td>0</td>\n",
       "    </tr>\n",
       "    <tr>\n",
       "      <th>183</th>\n",
       "      <td>58</td>\n",
       "      <td>112</td>\n",
       "      <td>230</td>\n",
       "      <td>165</td>\n",
       "      <td>2.5</td>\n",
       "      <td>1</td>\n",
       "      <td>0</td>\n",
       "      <td>1</td>\n",
       "      <td>0</td>\n",
       "      <td>0</td>\n",
       "      <td>...</td>\n",
       "      <td>1</td>\n",
       "      <td>1</td>\n",
       "      <td>0</td>\n",
       "      <td>0</td>\n",
       "      <td>1</td>\n",
       "      <td>0</td>\n",
       "      <td>0</td>\n",
       "      <td>0</td>\n",
       "      <td>1</td>\n",
       "      <td>0</td>\n",
       "    </tr>\n",
       "    <tr>\n",
       "      <th>229</th>\n",
       "      <td>64</td>\n",
       "      <td>125</td>\n",
       "      <td>309</td>\n",
       "      <td>131</td>\n",
       "      <td>1.8</td>\n",
       "      <td>0</td>\n",
       "      <td>0</td>\n",
       "      <td>1</td>\n",
       "      <td>0</td>\n",
       "      <td>0</td>\n",
       "      <td>...</td>\n",
       "      <td>0</td>\n",
       "      <td>0</td>\n",
       "      <td>1</td>\n",
       "      <td>0</td>\n",
       "      <td>1</td>\n",
       "      <td>0</td>\n",
       "      <td>0</td>\n",
       "      <td>0</td>\n",
       "      <td>1</td>\n",
       "      <td>0</td>\n",
       "    </tr>\n",
       "    <tr>\n",
       "      <th>126</th>\n",
       "      <td>47</td>\n",
       "      <td>112</td>\n",
       "      <td>204</td>\n",
       "      <td>143</td>\n",
       "      <td>0.1</td>\n",
       "      <td>0</td>\n",
       "      <td>0</td>\n",
       "      <td>1</td>\n",
       "      <td>0</td>\n",
       "      <td>0</td>\n",
       "      <td>...</td>\n",
       "      <td>0</td>\n",
       "      <td>1</td>\n",
       "      <td>0</td>\n",
       "      <td>1</td>\n",
       "      <td>0</td>\n",
       "      <td>0</td>\n",
       "      <td>1</td>\n",
       "      <td>0</td>\n",
       "      <td>0</td>\n",
       "      <td>0</td>\n",
       "    </tr>\n",
       "    <tr>\n",
       "      <th>184</th>\n",
       "      <td>50</td>\n",
       "      <td>150</td>\n",
       "      <td>243</td>\n",
       "      <td>128</td>\n",
       "      <td>2.6</td>\n",
       "      <td>0</td>\n",
       "      <td>0</td>\n",
       "      <td>1</td>\n",
       "      <td>0</td>\n",
       "      <td>0</td>\n",
       "      <td>...</td>\n",
       "      <td>1</td>\n",
       "      <td>1</td>\n",
       "      <td>0</td>\n",
       "      <td>0</td>\n",
       "      <td>1</td>\n",
       "      <td>0</td>\n",
       "      <td>0</td>\n",
       "      <td>0</td>\n",
       "      <td>1</td>\n",
       "      <td>0</td>\n",
       "    </tr>\n",
       "  </tbody>\n",
       "</table>\n",
       "<p>5 rows × 26 columns</p>\n",
       "</div>"
      ],
      "text/plain": [
       "     age  resting_blood_pressure  cholesterol  max_heart_rate_achieved  \\\n",
       "246   56                     134          409                      150   \n",
       "183   58                     112          230                      165   \n",
       "229   64                     125          309                      131   \n",
       "126   47                     112          204                      143   \n",
       "184   50                     150          243                      128   \n",
       "\n",
       "     st_depression  num_major_vessels  sex_female  sex_male  \\\n",
       "246            1.9                  2           1         0   \n",
       "183            2.5                  1           0         1   \n",
       "229            1.8                  0           0         1   \n",
       "126            0.1                  0           0         1   \n",
       "184            2.6                  0           0         1   \n",
       "\n",
       "     chest_pain_type_asymptomatic  chest_pain_type_atypical angina  ...  \\\n",
       "246                             0                                0  ...   \n",
       "183                             0                                0  ...   \n",
       "229                             0                                0  ...   \n",
       "126                             0                                0  ...   \n",
       "184                             0                                0  ...   \n",
       "\n",
       "     rest_ecg_normal  exercise_induced_angina_no  exercise_induced_angina_yes  \\\n",
       "246                1                           0                            1   \n",
       "183                1                           1                            0   \n",
       "229                0                           0                            1   \n",
       "126                0                           1                            0   \n",
       "184                1                           1                            0   \n",
       "\n",
       "     st_slope_downsloping  st_slope_flat  st_slope_upsloping  \\\n",
       "246                     0              1                   0   \n",
       "183                     0              1                   0   \n",
       "229                     0              1                   0   \n",
       "126                     1              0                   0   \n",
       "184                     0              1                   0   \n",
       "\n",
       "     thalassemia_fixed defect  thalassemia_normal  \\\n",
       "246                         0                   0   \n",
       "183                         0                   0   \n",
       "229                         0                   0   \n",
       "126                         1                   0   \n",
       "184                         0                   0   \n",
       "\n",
       "     thalassemia_reversable defect  thalassemia_unknown  \n",
       "246                              1                    0  \n",
       "183                              1                    0  \n",
       "229                              1                    0  \n",
       "126                              0                    0  \n",
       "184                              1                    0  \n",
       "\n",
       "[5 rows x 26 columns]"
      ]
     },
     "execution_count": 3,
     "metadata": {},
     "output_type": "execute_result"
    }
   ],
   "source": [
    "X_test.head()"
   ]
  },
  {
   "cell_type": "code",
   "execution_count": 4,
   "id": "1826f733-b2bf-4b6f-944e-a85d70cd0a45",
   "metadata": {},
   "outputs": [
    {
     "data": {
      "text/plain": [
       "age                                           64.0\n",
       "resting_blood_pressure                       125.0\n",
       "cholesterol                                  309.0\n",
       "max_heart_rate_achieved                      131.0\n",
       "st_depression                                  1.8\n",
       "num_major_vessels                              0.0\n",
       "sex_female                                     0.0\n",
       "sex_male                                       1.0\n",
       "chest_pain_type_asymptomatic                   0.0\n",
       "chest_pain_type_atypical angina                0.0\n",
       "chest_pain_type_non-anginal pain               1.0\n",
       "chest_pain_type_typical angina                 0.0\n",
       "fasting_blood_sugar_greater than 120mg/ml      0.0\n",
       "fasting_blood_sugar_lower than 120mg/ml        1.0\n",
       "rest_ecg_ST-T wave abnormality                 1.0\n",
       "rest_ecg_left ventricular hypertrophy          0.0\n",
       "rest_ecg_normal                                0.0\n",
       "exercise_induced_angina_no                     0.0\n",
       "exercise_induced_angina_yes                    1.0\n",
       "st_slope_downsloping                           0.0\n",
       "st_slope_flat                                  1.0\n",
       "st_slope_upsloping                             0.0\n",
       "thalassemia_fixed defect                       0.0\n",
       "thalassemia_normal                             0.0\n",
       "thalassemia_reversable defect                  1.0\n",
       "thalassemia_unknown                            0.0\n",
       "Name: 229, dtype: float64"
      ]
     },
     "execution_count": 4,
     "metadata": {},
     "output_type": "execute_result"
    }
   ],
   "source": [
    "X_test.iloc[2]"
   ]
  },
  {
   "cell_type": "code",
   "execution_count": 5,
   "id": "b6ac8358-342f-4d53-802a-6ed6f1a5d2dd",
   "metadata": {},
   "outputs": [],
   "source": [
    "test_sample=X_test.iloc[2]"
   ]
  },
  {
   "cell_type": "code",
   "execution_count": 6,
   "id": "d7a6dbe0-27cb-4d49-9bb1-1d0de654175c",
   "metadata": {},
   "outputs": [
    {
     "data": {
      "text/plain": [
       "(26,)"
      ]
     },
     "execution_count": 6,
     "metadata": {},
     "output_type": "execute_result"
    }
   ],
   "source": [
    "test_sample.shape"
   ]
  },
  {
   "cell_type": "code",
   "execution_count": 7,
   "id": "fd960a06-8e13-4418-893c-0fcde8840682",
   "metadata": {},
   "outputs": [],
   "source": [
    "test_sample=np.array(test_sample).reshape(1,-1)"
   ]
  },
  {
   "cell_type": "code",
   "execution_count": 8,
   "id": "e16048f2-4741-4abc-bf02-7f87192f6f7b",
   "metadata": {},
   "outputs": [
    {
     "data": {
      "text/plain": [
       "array([[ 64. , 125. , 309. , 131. ,   1.8,   0. ,   0. ,   1. ,   0. ,\n",
       "          0. ,   1. ,   0. ,   0. ,   1. ,   1. ,   0. ,   0. ,   0. ,\n",
       "          1. ,   0. ,   1. ,   0. ,   0. ,   0. ,   1. ,   0. ]])"
      ]
     },
     "execution_count": 8,
     "metadata": {},
     "output_type": "execute_result"
    }
   ],
   "source": [
    "test_sample"
   ]
  },
  {
   "cell_type": "code",
   "execution_count": 9,
   "id": "c3cfa3c4-08cb-4529-a772-ec0014be150c",
   "metadata": {},
   "outputs": [
    {
     "data": {
      "text/plain": [
       "(1, 26)"
      ]
     },
     "execution_count": 9,
     "metadata": {},
     "output_type": "execute_result"
    }
   ],
   "source": [
    "test_sample.shape"
   ]
  },
  {
   "cell_type": "code",
   "execution_count": 10,
   "id": "7b8f0e27-8a58-424f-93a6-259676a24ec8",
   "metadata": {},
   "outputs": [
    {
     "name": "stderr",
     "output_type": "stream",
     "text": [
      "/opt/anaconda3/lib/python3.10/site-packages/sklearn/base.py:439: UserWarning: X does not have valid feature names, but RandomForestClassifier was fitted with feature names\n",
      "  warnings.warn(\n"
     ]
    },
    {
     "data": {
      "text/plain": [
       "array([0])"
      ]
     },
     "execution_count": 10,
     "metadata": {},
     "output_type": "execute_result"
    }
   ],
   "source": [
    "model.predict(test_sample)"
   ]
  },
  {
   "cell_type": "code",
   "execution_count": 11,
   "id": "19428d7a-aac5-45b2-a981-94f7eee5052b",
   "metadata": {},
   "outputs": [
    {
     "name": "stderr",
     "output_type": "stream",
     "text": [
      "/opt/anaconda3/lib/python3.10/site-packages/sklearn/base.py:439: UserWarning: X does not have valid feature names, but RandomForestClassifier was fitted with feature names\n",
      "  warnings.warn(\n"
     ]
    },
    {
     "data": {
      "text/plain": [
       "array([[0.71559685, 0.28440315]])"
      ]
     },
     "execution_count": 11,
     "metadata": {},
     "output_type": "execute_result"
    }
   ],
   "source": [
    "model.predict_proba(test_sample)"
   ]
  },
  {
   "cell_type": "code",
   "execution_count": 12,
   "id": "26623d54-594b-456a-9e69-07a958e8aa17",
   "metadata": {},
   "outputs": [
    {
     "data": {
      "text/plain": [
       "array([0, 0, 0, 1, 0, 1, 1, 1, 1, 0, 1, 0, 1, 1, 0, 1, 0, 0, 1, 0, 0, 1,\n",
       "       1, 1, 0, 0, 0, 0, 1, 0, 1, 0, 0, 0, 0, 0, 1, 1, 1, 0, 0, 0, 1, 1,\n",
       "       1, 0, 1, 1, 1, 0, 0, 1, 0, 0, 1, 1, 1, 1, 0, 0, 1])"
      ]
     },
     "execution_count": 12,
     "metadata": {},
     "output_type": "execute_result"
    }
   ],
   "source": [
    "model.predict(X_test)"
   ]
  },
  {
   "cell_type": "code",
   "execution_count": 13,
   "id": "ca7b7704-3466-4178-8445-578cdb5c5ec9",
   "metadata": {},
   "outputs": [
    {
     "data": {
      "text/plain": [
       "array([[0.89418719, 0.10581281],\n",
       "       [0.61282259, 0.38717741],\n",
       "       [0.71559685, 0.28440315],\n",
       "       [0.1835447 , 0.8164553 ],\n",
       "       [0.72919362, 0.27080638],\n",
       "       [0.21630626, 0.78369374],\n",
       "       [0.42763252, 0.57236748],\n",
       "       [0.33336247, 0.66663753],\n",
       "       [0.09804277, 0.90195723],\n",
       "       [0.89137254, 0.10862746],\n",
       "       [0.06828091, 0.93171909],\n",
       "       [0.83229599, 0.16770401],\n",
       "       [0.36268021, 0.63731979],\n",
       "       [0.13692194, 0.86307806],\n",
       "       [0.80951402, 0.19048598],\n",
       "       [0.15648599, 0.84351401],\n",
       "       [0.86560097, 0.13439903],\n",
       "       [0.98589016, 0.01410984],\n",
       "       [0.3327265 , 0.6672735 ],\n",
       "       [0.80814903, 0.19185097],\n",
       "       [0.92553851, 0.07446149],\n",
       "       [0.14725937, 0.85274063],\n",
       "       [0.32494908, 0.67505092],\n",
       "       [0.11995323, 0.88004677],\n",
       "       [0.69536167, 0.30463833],\n",
       "       [0.84028282, 0.15971718],\n",
       "       [0.99157449, 0.00842551],\n",
       "       [0.89213594, 0.10786406],\n",
       "       [0.14099926, 0.85900074],\n",
       "       [0.98581676, 0.01418324],\n",
       "       [0.11124549, 0.88875451],\n",
       "       [0.80524523, 0.19475477],\n",
       "       [0.8026738 , 0.1973262 ],\n",
       "       [0.84062389, 0.15937611],\n",
       "       [0.99747352, 0.00252648],\n",
       "       [0.86191661, 0.13808339],\n",
       "       [0.2325034 , 0.7674966 ],\n",
       "       [0.48457205, 0.51542795],\n",
       "       [0.14961133, 0.85038867],\n",
       "       [0.6539433 , 0.3460567 ],\n",
       "       [0.94047772, 0.05952228],\n",
       "       [0.78308852, 0.21691148],\n",
       "       [0.14819778, 0.85180222],\n",
       "       [0.46447276, 0.53552724],\n",
       "       [0.07431205, 0.92568795],\n",
       "       [0.52333858, 0.47666142],\n",
       "       [0.44728089, 0.55271911],\n",
       "       [0.16584461, 0.83415539],\n",
       "       [0.26969964, 0.73030036],\n",
       "       [0.55781653, 0.44218347],\n",
       "       [0.57416585, 0.42583415],\n",
       "       [0.16794159, 0.83205841],\n",
       "       [0.93158322, 0.06841678],\n",
       "       [0.8149565 , 0.1850435 ],\n",
       "       [0.02761296, 0.97238704],\n",
       "       [0.21680234, 0.78319766],\n",
       "       [0.22168497, 0.77831503],\n",
       "       [0.2790852 , 0.7209148 ],\n",
       "       [0.9827236 , 0.0172764 ],\n",
       "       [0.9426893 , 0.0573107 ],\n",
       "       [0.36297008, 0.63702992]])"
      ]
     },
     "execution_count": 13,
     "metadata": {},
     "output_type": "execute_result"
    }
   ],
   "source": [
    "model.predict_proba(X_test)"
   ]
  },
  {
   "cell_type": "code",
   "execution_count": 14,
   "id": "60474b98-e30c-4d0e-adae-4046d353aa12",
   "metadata": {},
   "outputs": [
    {
     "data": {
      "text/plain": [
       "array([0.10581281, 0.38717741, 0.28440315, 0.8164553 , 0.27080638,\n",
       "       0.78369374, 0.57236748, 0.66663753, 0.90195723, 0.10862746,\n",
       "       0.93171909, 0.16770401, 0.63731979, 0.86307806, 0.19048598,\n",
       "       0.84351401, 0.13439903, 0.01410984, 0.6672735 , 0.19185097,\n",
       "       0.07446149, 0.85274063, 0.67505092, 0.88004677, 0.30463833,\n",
       "       0.15971718, 0.00842551, 0.10786406, 0.85900074, 0.01418324,\n",
       "       0.88875451, 0.19475477, 0.1973262 , 0.15937611, 0.00252648,\n",
       "       0.13808339, 0.7674966 , 0.51542795, 0.85038867, 0.3460567 ,\n",
       "       0.05952228, 0.21691148, 0.85180222, 0.53552724, 0.92568795,\n",
       "       0.47666142, 0.55271911, 0.83415539, 0.73030036, 0.44218347,\n",
       "       0.42583415, 0.83205841, 0.06841678, 0.1850435 , 0.97238704,\n",
       "       0.78319766, 0.77831503, 0.7209148 , 0.0172764 , 0.0573107 ,\n",
       "       0.63702992])"
      ]
     },
     "execution_count": 14,
     "metadata": {},
     "output_type": "execute_result"
    }
   ],
   "source": [
    "model.predict_proba(X_test)[:, 1]"
   ]
  },
  {
   "cell_type": "code",
   "execution_count": 15,
   "id": "21347f53-e671-4bc9-a030-d11f7ee39a5b",
   "metadata": {},
   "outputs": [],
   "source": [
    "y_pred = model.predict(X_test)\n",
    "y_pred_proba = model.predict_proba(X_test)"
   ]
  },
  {
   "cell_type": "code",
   "execution_count": 16,
   "id": "1dd42fb7-1658-4d30-9fde-983e721e4bfa",
   "metadata": {},
   "outputs": [
    {
     "data": {
      "text/plain": [
       "array([0, 0, 0, 1, 0, 1, 1, 1, 1, 0, 1, 0, 1, 1, 0, 1, 0, 0, 1, 0, 0, 1,\n",
       "       1, 1, 0, 0, 0, 0, 1, 0, 1, 0, 0, 0, 0, 0, 1, 1, 1, 0, 0, 0, 1, 1,\n",
       "       1, 0, 1, 1, 1, 0, 0, 1, 0, 0, 1, 1, 1, 1, 0, 0, 1])"
      ]
     },
     "execution_count": 16,
     "metadata": {},
     "output_type": "execute_result"
    }
   ],
   "source": [
    "y_pred"
   ]
  },
  {
   "cell_type": "code",
   "execution_count": 17,
   "id": "44554ea2-afef-4db2-adcc-156515865894",
   "metadata": {},
   "outputs": [
    {
     "data": {
      "text/plain": [
       "246    0\n",
       "183    0\n",
       "229    0\n",
       "126    1\n",
       "184    0\n",
       "      ..\n",
       "277    0\n",
       "121    1\n",
       "187    0\n",
       "301    0\n",
       "283    0\n",
       "Name: target, Length: 61, dtype: int64"
      ]
     },
     "execution_count": 17,
     "metadata": {},
     "output_type": "execute_result"
    }
   ],
   "source": [
    "y_test"
   ]
  },
  {
   "cell_type": "code",
   "execution_count": 18,
   "id": "8e7166a8-9f41-44fd-8066-45a25978c1c4",
   "metadata": {},
   "outputs": [],
   "source": [
    "from sklearn.metrics import confusion_matrix"
   ]
  },
  {
   "cell_type": "code",
   "execution_count": 19,
   "id": "ba817842-7ad7-4f30-b68b-ca164eb219eb",
   "metadata": {},
   "outputs": [],
   "source": [
    "confusion_matrix?"
   ]
  },
  {
   "cell_type": "code",
   "execution_count": 20,
   "id": "17e49ca2-61d3-4375-9eb4-77deac98837c",
   "metadata": {},
   "outputs": [],
   "source": [
    "confusion_matrix_model=confusion_matrix(y_test, y_pred)"
   ]
  },
  {
   "cell_type": "code",
   "execution_count": 21,
   "id": "c12f428e-0dfe-4de8-a7a9-2c6cdb53646d",
   "metadata": {},
   "outputs": [
    {
     "data": {
      "text/plain": [
       "array([[27,  8],\n",
       "       [ 4, 22]])"
      ]
     },
     "execution_count": 21,
     "metadata": {},
     "output_type": "execute_result"
    }
   ],
   "source": [
    "confusion_matrix_model"
   ]
  },
  {
   "cell_type": "code",
   "execution_count": 22,
   "id": "94b8443e-658a-4cbd-b258-56d6a2194519",
   "metadata": {},
   "outputs": [],
   "source": [
    "import itertools\n",
    "def cnf_matrix_plotter(cm, classes):\n",
    "    plt.imshow(cm, interpolation='nearest', cmap=plt.cm.Oranges)\n",
    "    plt.title('Confusion Matrix')\n",
    "    plt.colorbar()\n",
    "    tick_marks=np.arange(len(classes))\n",
    "    plt.xticks(tick_marks, classes, rotation=45)\n",
    "    plt.yticks(tick_marks, classes)\n",
    "    threshold=cm.max()/2.\n",
    "    for i, j in itertools.product(range(cm.shape[0]), range(cm.shape[1])):\n",
    "        plt.text(j, i, cm[i, j],\n",
    "                horizontalalignment=\"center\",\n",
    "                color=\"white\" if cm[i, j]>threshold else \"black\",\n",
    "                fontsize=25)\n",
    "    plt.tight_layout()\n",
    "    plt.ylabel('True Label')\n",
    "    plt.xlabel('Predicted Label')\n",
    "    plt.show()"
   ]
  },
  {
   "cell_type": "code",
   "execution_count": 23,
   "id": "515ec3b1-5605-4856-b844-c13cc21a6a9c",
   "metadata": {},
   "outputs": [
    {
     "data": {
      "image/png": "[encoded data removed]",
      "text/plain": [
       "<Figure size 640x480 with 2 Axes>"
      ]
     },
     "metadata": {},
     "output_type": "display_data"
    }
   ],
   "source": [
    "cnf_matrix_plotter(confusion_matrix_model, ['Healthy','Disease'])"
   ]
  },
  {
   "cell_type": "code",
   "execution_count": 24,
   "id": "cbc416de",
   "metadata": {},
   "outputs": [
    {
     "name": "stdout",
     "output_type": "stream",
     "text": [
      "              precision    recall  f1-score   support\n",
      "\n",
      "     Healthy       0.87      0.77      0.82        35\n",
      "     Disease       0.73      0.85      0.79        26\n",
      "\n",
      "    accuracy                           0.80        61\n",
      "   macro avg       0.80      0.81      0.80        61\n",
      "weighted avg       0.81      0.80      0.80        61\n",
      "\n"
     ]
    }
   ],
   "source": [
    "from sklearn.metrics import classification_report\n",
    "print(classification_report(y_test, y_pred, target_names=['Healthy', 'Disease']))"
   ]
  },
  {
   "cell_type": "code",
   "execution_count": 25,
   "id": "26e1b3bc",
   "metadata": {},
   "outputs": [
    {
     "data": {
      "text/plain": [
       "array([[0.89418719, 0.10581281],\n",
       "       [0.61282259, 0.38717741],\n",
       "       [0.71559685, 0.28440315],\n",
       "       [0.1835447 , 0.8164553 ],\n",
       "       [0.72919362, 0.27080638],\n",
       "       [0.21630626, 0.78369374],\n",
       "       [0.42763252, 0.57236748],\n",
       "       [0.33336247, 0.66663753],\n",
       "       [0.09804277, 0.90195723],\n",
       "       [0.89137254, 0.10862746],\n",
       "       [0.06828091, 0.93171909],\n",
       "       [0.83229599, 0.16770401],\n",
       "       [0.36268021, 0.63731979],\n",
       "       [0.13692194, 0.86307806],\n",
       "       [0.80951402, 0.19048598],\n",
       "       [0.15648599, 0.84351401],\n",
       "       [0.86560097, 0.13439903],\n",
       "       [0.98589016, 0.01410984],\n",
       "       [0.3327265 , 0.6672735 ],\n",
       "       [0.80814903, 0.19185097],\n",
       "       [0.92553851, 0.07446149],\n",
       "       [0.14725937, 0.85274063],\n",
       "       [0.32494908, 0.67505092],\n",
       "       [0.11995323, 0.88004677],\n",
       "       [0.69536167, 0.30463833],\n",
       "       [0.84028282, 0.15971718],\n",
       "       [0.99157449, 0.00842551],\n",
       "       [0.89213594, 0.10786406],\n",
       "       [0.14099926, 0.85900074],\n",
       "       [0.98581676, 0.01418324],\n",
       "       [0.11124549, 0.88875451],\n",
       "       [0.80524523, 0.19475477],\n",
       "       [0.8026738 , 0.1973262 ],\n",
       "       [0.84062389, 0.15937611],\n",
       "       [0.99747352, 0.00252648],\n",
       "       [0.86191661, 0.13808339],\n",
       "       [0.2325034 , 0.7674966 ],\n",
       "       [0.48457205, 0.51542795],\n",
       "       [0.14961133, 0.85038867],\n",
       "       [0.6539433 , 0.3460567 ],\n",
       "       [0.94047772, 0.05952228],\n",
       "       [0.78308852, 0.21691148],\n",
       "       [0.14819778, 0.85180222],\n",
       "       [0.46447276, 0.53552724],\n",
       "       [0.07431205, 0.92568795],\n",
       "       [0.52333858, 0.47666142],\n",
       "       [0.44728089, 0.55271911],\n",
       "       [0.16584461, 0.83415539],\n",
       "       [0.26969964, 0.73030036],\n",
       "       [0.55781653, 0.44218347],\n",
       "       [0.57416585, 0.42583415],\n",
       "       [0.16794159, 0.83205841],\n",
       "       [0.93158322, 0.06841678],\n",
       "       [0.8149565 , 0.1850435 ],\n",
       "       [0.02761296, 0.97238704],\n",
       "       [0.21680234, 0.78319766],\n",
       "       [0.22168497, 0.77831503],\n",
       "       [0.2790852 , 0.7209148 ],\n",
       "       [0.9827236 , 0.0172764 ],\n",
       "       [0.9426893 , 0.0573107 ],\n",
       "       [0.36297008, 0.63702992]])"
      ]
     },
     "execution_count": 25,
     "metadata": {},
     "output_type": "execute_result"
    }
   ],
   "source": [
    "model.predict_proba(X_test)"
   ]
  },
  {
   "cell_type": "code",
   "execution_count": 26,
   "id": "648521a8",
   "metadata": {},
   "outputs": [
    {
     "data": {
      "text/plain": [
       "array([0.10581281, 0.38717741, 0.28440315, 0.8164553 , 0.27080638,\n",
       "       0.78369374, 0.57236748, 0.66663753, 0.90195723, 0.10862746,\n",
       "       0.93171909, 0.16770401, 0.63731979, 0.86307806, 0.19048598,\n",
       "       0.84351401, 0.13439903, 0.01410984, 0.6672735 , 0.19185097,\n",
       "       0.07446149, 0.85274063, 0.67505092, 0.88004677, 0.30463833,\n",
       "       0.15971718, 0.00842551, 0.10786406, 0.85900074, 0.01418324,\n",
       "       0.88875451, 0.19475477, 0.1973262 , 0.15937611, 0.00252648,\n",
       "       0.13808339, 0.7674966 , 0.51542795, 0.85038867, 0.3460567 ,\n",
       "       0.05952228, 0.21691148, 0.85180222, 0.53552724, 0.92568795,\n",
       "       0.47666142, 0.55271911, 0.83415539, 0.73030036, 0.44218347,\n",
       "       0.42583415, 0.83205841, 0.06841678, 0.1850435 , 0.97238704,\n",
       "       0.78319766, 0.77831503, 0.7209148 , 0.0172764 , 0.0573107 ,\n",
       "       0.63702992])"
      ]
     },
     "execution_count": 26,
     "metadata": {},
     "output_type": "execute_result"
    }
   ],
   "source": [
    "model.predict_proba(X_test)[:, 1]"
   ]
  },
  {
   "cell_type": "code",
   "execution_count": 27,
   "id": "07072bdf",
   "metadata": {},
   "outputs": [],
   "source": [
    "y_pred_quant=model.predict_proba(X_test)[:, 1]"
   ]
  },
  {
   "cell_type": "code",
   "execution_count": 28,
   "id": "1f29a9fc",
   "metadata": {},
   "outputs": [],
   "source": [
    "from sklearn.metrics import roc_curve, auc\n",
    "fpr, tpr, threshold = roc_curve(y_test, y_pred_quant)"
   ]
  },
  {
   "cell_type": "code",
   "execution_count": 29,
   "id": "a40d22de",
   "metadata": {},
   "outputs": [
    {
     "data": {
      "text/plain": [
       "array([0.        , 0.        , 0.        , 0.02857143, 0.02857143,\n",
       "       0.05714286, 0.05714286, 0.14285714, 0.14285714, 0.25714286,\n",
       "       0.25714286, 0.48571429, 0.48571429, 0.62857143, 0.62857143,\n",
       "       0.77142857, 0.77142857, 1.        ])"
      ]
     },
     "execution_count": 29,
     "metadata": {},
     "output_type": "execute_result"
    }
   ],
   "source": [
    "fpr"
   ]
  },
  {
   "cell_type": "code",
   "execution_count": 30,
   "id": "fc65f0a1",
   "metadata": {},
   "outputs": [
    {
     "data": {
      "text/plain": [
       "array([0.        , 0.03846154, 0.65384615, 0.65384615, 0.76923077,\n",
       "       0.76923077, 0.80769231, 0.80769231, 0.84615385, 0.84615385,\n",
       "       0.88461538, 0.88461538, 0.92307692, 0.92307692, 0.96153846,\n",
       "       0.96153846, 1.        , 1.        ])"
      ]
     },
     "execution_count": 30,
     "metadata": {},
     "output_type": "execute_result"
    }
   ],
   "source": [
    "tpr"
   ]
  },
  {
   "cell_type": "code",
   "execution_count": 31,
   "id": "ad2a6ca3",
   "metadata": {},
   "outputs": [
    {
     "data": {
      "text/plain": [
       "array([1.97238704, 0.97238704, 0.78319766, 0.77831503, 0.7209148 ,\n",
       "       0.67505092, 0.6672735 , 0.63702992, 0.57236748, 0.47666142,\n",
       "       0.44218347, 0.1973262 , 0.19475477, 0.15971718, 0.15937611,\n",
       "       0.10581281, 0.07446149, 0.00252648])"
      ]
     },
     "execution_count": 31,
     "metadata": {},
     "output_type": "execute_result"
    }
   ],
   "source": [
    "threshold"
   ]
  },
  {
   "cell_type": "code",
   "execution_count": 32,
   "id": "f18a3ba2",
   "metadata": {},
   "outputs": [
    {
     "data": {
      "image/png": "[encoded data removed]",
      "text/plain": [
       "<Figure size 640x480 with 1 Axes>"
      ]
     },
     "metadata": {},
     "output_type": "display_data"
    }
   ],
   "source": [
    "plt.plot(fpr, tpr)\n",
    "plt.plot([0, 1], [0, 1],ls=\"--\", c=\".3\")\n",
    "plt.xlim([0.0, 1.0])\n",
    "plt.ylim([0.0, 1.0])\n",
    "plt.rcParams['font.size'] = 12\n",
    "plt.title('ROC curve')\n",
    "plt.xlabel('False Positive Rate (1 - Specificity)')\n",
    "plt.ylabel('True Positive Rate (Sensitivity)')\n",
    "plt.grid(True)"
   ]
  },
  {
   "cell_type": "code",
   "execution_count": 33,
   "id": "4a39868c",
   "metadata": {},
   "outputs": [
    {
     "data": {
      "text/plain": [
       "0.9065934065934066"
      ]
     },
     "execution_count": 33,
     "metadata": {},
     "output_type": "execute_result"
    }
   ],
   "source": [
    "auc(fpr, tpr)"
   ]
  }
 ],
 "metadata": {
  "kernelspec": {
   "display_name": "Python 3 (ipykernel)",
   "language": "python",
   "name": "python3"
  },
  "language_info": {
   "codemirror_mode": {
    "name": "ipython",
    "version": 3
   },
   "file_extension": ".py",
   "mimetype": "text/x-python",
   "name": "python",
   "nbconvert_exporter": "python",
   "pygments_lexer": "ipython3",
   "version": "3.10.12"
  }
 },
 "nbformat": 4,
 "nbformat_minor": 5
}
